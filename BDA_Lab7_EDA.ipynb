{
  "nbformat": 4,
  "nbformat_minor": 0,
  "metadata": {
    "colab": {
      "name": "BDA-Lab7-EDA.ipynb",
      "provenance": [],
      "collapsed_sections": []
    },
    "kernelspec": {
      "name": "python3",
      "display_name": "Python 3"
    }
  },
  "cells": [
    {
      "cell_type": "markdown",
      "metadata": {
        "id": "5WNm0Jm7Sg_B"
      },
      "source": [
        "# **Exploratory Data Analysis in Python using pandas**\n",
        "\n",
        "In this Jupyter notebook, you will learn how to perform Exploratory Data Analysis on web scraped data of NBA player."
      ]
    },
    {
      "cell_type": "markdown",
      "metadata": {
        "id": "fhVY2xJJS0FU"
      },
      "source": [
        "## **Web scraping data using pandas**\n",
        "\n",
        "The following block of code will retrieve the \"2018-19 NBA Player Stats: Per Game\" data from http://www.basketball-reference.com/."
      ]
    },
    {
      "cell_type": "code",
      "metadata": {
        "id": "4sLS78K-S-r2"
      },
      "source": [
        "import pandas as pd\n",
        "\n",
        "# Retrieve HTML table data\n",
        "url = 'https://www.basketball-reference.com/leagues/NBA_2019_per_game.html'\n",
        "html = pd.read_html(url, header = 0)\n",
        "df2019 = html[0]\n",
        "\n",
        "# Data cleaning\n",
        "raw = df2019.drop(df2019[df2019.Age == 'Age'].index)\n",
        "raw"
      ],
      "execution_count": null,
      "outputs": []
    },
    {
      "cell_type": "markdown",
      "metadata": {
        "id": "KzglK9XYVorP"
      },
      "source": [
        "## **Acronyms**\n",
        "\n",
        "\n",
        "Acronym | Description\n",
        "---|---\n",
        "Rk | Rank\n",
        "Pos | Position\n",
        "Age | Player's age on February 1 of the season\n",
        "Tm | Team\n",
        "G | Games\n",
        "GS | Games Started\n",
        "MP | Minutes Played Per Game\n",
        "FG | Field Goals Per Game\n",
        "FGA | Field Goal Attempts Per Game\n",
        "FG% | Field Goal Percentage\n",
        "3P | 3-Point Field Goals Per Game\n",
        "3PA | 3-Point Field Goal Attempts Per Game\n",
        "3P% | FG% on 3-Pt FGAs.\n",
        "2P | 2-Point Field Goals Per Game\n",
        "2PA | 2-Point Field Goal Attempts Per Game\n",
        "2P% | FG% on 2-Pt FGAs.\n",
        "eFG% | Effective Field Goal Percentage\n",
        "| *(Note: This statistic adjusts for the fact that a 3-point field goal is worth one more point than a 2-point field goal.)*\n",
        "FT | Free Throws Per Game\n",
        "FTA | Free Throw Attempts Per Game\n",
        "FT% | Free Throw Percentage\n",
        "ORB | Offensive Rebounds Per Game\n",
        "DRB | Defensive Rebounds Per Game\n",
        "TRB | Total Rebounds Per Game\n",
        "AST | Assists Per Game\n",
        "STL | Steals Per Game\n",
        "BLK | Blocks Per Game\n",
        "TOV | Turnovers Per Game\n",
        "PF | Personal Fouls Per Game\n",
        "PTS | Points Per Game"
      ]
    },
    {
      "cell_type": "markdown",
      "metadata": {
        "id": "Wt3Ttu15xU0K"
      },
      "source": [
        "## **Data cleaning**"
      ]
    },
    {
      "cell_type": "markdown",
      "metadata": {
        "id": "in9Z-pBU4tjV"
      },
      "source": [
        "### Data dimension"
      ]
    },
    {
      "cell_type": "code",
      "metadata": {
        "id": "Fv9WlKFo4oTH"
      },
      "source": [
        "raw.shape"
      ],
      "execution_count": null,
      "outputs": []
    },
    {
      "cell_type": "markdown",
      "metadata": {
        "id": "fLm75CFV4yEK"
      },
      "source": [
        "### Dataframe contents"
      ]
    },
    {
      "cell_type": "code",
      "metadata": {
        "id": "Ew9QV7dd4oVz"
      },
      "source": [
        "raw.head()"
      ],
      "execution_count": null,
      "outputs": []
    },
    {
      "cell_type": "markdown",
      "metadata": {
        "id": "EITj70Uj5ExV"
      },
      "source": [
        "### Check for missing values"
      ]
    },
    {
      "cell_type": "code",
      "metadata": {
        "id": "0ZRMtlBh4oYW"
      },
      "source": [
        "raw.isnull().sum()"
      ],
      "execution_count": null,
      "outputs": []
    },
    {
      "cell_type": "markdown",
      "metadata": {
        "id": "Dr8qinan59_d"
      },
      "source": [
        "### Replace missing values with 0 "
      ]
    },
    {
      "cell_type": "code",
      "metadata": {
        "id": "omHd0Sk74oax"
      },
      "source": [
        "df = raw.fillna(0)"
      ],
      "execution_count": null,
      "outputs": []
    },
    {
      "cell_type": "code",
      "metadata": {
        "id": "TaKlXdUH4odI"
      },
      "source": [
        "df.isnull().sum()"
      ],
      "execution_count": null,
      "outputs": []
    },
    {
      "cell_type": "code",
      "metadata": {
        "id": "fstf3jQTh8DJ"
      },
      "source": [
        "df = df.drop(['Rk'], axis=1)\n",
        "df"
      ],
      "execution_count": null,
      "outputs": []
    },
    {
      "cell_type": "markdown",
      "metadata": {
        "id": "zwASrKmRhkIu"
      },
      "source": [
        "### Write to CSV file"
      ]
    },
    {
      "cell_type": "code",
      "metadata": {
        "id": "UEFT8isYhmzF"
      },
      "source": [
        "df.to_csv('nba2019.csv', index=False)"
      ],
      "execution_count": null,
      "outputs": []
    },
    {
      "cell_type": "code",
      "metadata": {
        "id": "p3S26vjLhuHd"
      },
      "source": [
        "! ls"
      ],
      "execution_count": null,
      "outputs": []
    },
    {
      "cell_type": "code",
      "metadata": {
        "id": "du6_OH6YhwPV"
      },
      "source": [
        "! cat nba2019.csv"
      ],
      "execution_count": null,
      "outputs": []
    },
    {
      "cell_type": "markdown",
      "metadata": {
        "id": "iHz_ehmSd_SP"
      },
      "source": [
        "## **Exploratory Data Analysis**"
      ]
    },
    {
      "cell_type": "markdown",
      "metadata": {
        "id": "3GL2wl4wd_SO"
      },
      "source": [
        "### Read data"
      ]
    },
    {
      "cell_type": "code",
      "metadata": {
        "id": "xPMzN8Mnd_SK"
      },
      "source": [
        "df = pd.read_csv('nba2019.csv')"
      ],
      "execution_count": null,
      "outputs": []
    },
    {
      "cell_type": "markdown",
      "metadata": {
        "id": "fAk-QoV_d_SJ"
      },
      "source": [
        "#### Displays the dataframe"
      ]
    },
    {
      "cell_type": "code",
      "metadata": {
        "id": "TwW8LAgVd_SE"
      },
      "source": [
        "df"
      ],
      "execution_count": null,
      "outputs": []
    },
    {
      "cell_type": "markdown",
      "metadata": {
        "id": "quP1lwt9d_SE"
      },
      "source": [
        "If we want to see more..."
      ]
    },
    {
      "cell_type": "code",
      "metadata": {
        "id": "UXKqe0kEd_SA"
      },
      "source": [
        "pd.set_option('display.max_rows', df.shape[0]+1)"
      ],
      "execution_count": null,
      "outputs": []
    },
    {
      "cell_type": "code",
      "metadata": {
        "id": "8yNqqEKwd_R6"
      },
      "source": [
        "df"
      ],
      "execution_count": null,
      "outputs": []
    },
    {
      "cell_type": "markdown",
      "metadata": {
        "id": "snACooEzd_R5"
      },
      "source": [
        "Reverting back to the default"
      ]
    },
    {
      "cell_type": "code",
      "metadata": {
        "id": "VmQQdrkkd_R1"
      },
      "source": [
        "pd.set_option('display.max_rows', 10)"
      ],
      "execution_count": null,
      "outputs": []
    },
    {
      "cell_type": "code",
      "metadata": {
        "id": "vvJFVmJqd_Rx"
      },
      "source": [
        "df"
      ],
      "execution_count": null,
      "outputs": []
    },
    {
      "cell_type": "markdown",
      "metadata": {
        "id": "9bVSYvfzd_Rw"
      },
      "source": [
        "### Overview of data types of each columns in the dataframe"
      ]
    },
    {
      "cell_type": "code",
      "metadata": {
        "id": "JJs9g1HAd_Rs"
      },
      "source": [
        "df.dtypes"
      ],
      "execution_count": null,
      "outputs": []
    },
    {
      "cell_type": "markdown",
      "metadata": {
        "id": "ls339eZId_Rr"
      },
      "source": [
        "### Show specific data types in dataframe"
      ]
    },
    {
      "cell_type": "code",
      "metadata": {
        "id": "dEsJO1ZJd_Rn"
      },
      "source": [
        "df.select_dtypes(include=['number'])"
      ],
      "execution_count": null,
      "outputs": []
    },
    {
      "cell_type": "code",
      "metadata": {
        "id": "7_7RgIpbd_Rj"
      },
      "source": [
        "df.select_dtypes(include=['object'])"
      ],
      "execution_count": null,
      "outputs": []
    },
    {
      "cell_type": "markdown",
      "metadata": {
        "id": "kdLdK6U31rOH"
      },
      "source": [
        "## **QUESTIONS**"
      ]
    },
    {
      "cell_type": "markdown",
      "metadata": {
        "id": "wDhMfqlXxAb5"
      },
      "source": [
        "### **Conditional Selection**\n",
        "\n",
        "In performing exploratory data analysis, it is important to be able to select subsets of data to perform analysis or comparisons."
      ]
    },
    {
      "cell_type": "markdown",
      "metadata": {
        "id": "w5WugPUq5zEh"
      },
      "source": [
        "**Which player scored the most Points (PTS) Per Game?**\n",
        "Here, we will return the entire row."
      ]
    },
    {
      "cell_type": "code",
      "metadata": {
        "id": "k-VGyApb51d_"
      },
      "source": [
        "df[df.PTS == df.PTS.max()]"
      ],
      "execution_count": null,
      "outputs": []
    },
    {
      "cell_type": "markdown",
      "metadata": {
        "id": "2vr0VvlP6Ykq"
      },
      "source": [
        "We will return specific column values."
      ]
    },
    {
      "cell_type": "markdown",
      "metadata": {
        "id": "vIPTWp311w0D"
      },
      "source": [
        "**Which player scored more than 20 Points (PTS) Per Game?**"
      ]
    },
    {
      "cell_type": "code",
      "metadata": {
        "id": "rb3vme4516CI"
      },
      "source": [
        "df[df.PTS > 20]"
      ],
      "execution_count": null,
      "outputs": []
    },
    {
      "cell_type": "markdown",
      "metadata": {
        "id": "Da313cYi2zM3"
      },
      "source": [
        "**Which player had the highest 3-Point Field Goals Per Game (3P) ?**"
      ]
    },
    {
      "cell_type": "code",
      "metadata": {
        "id": "E34dZROU3CXq"
      },
      "source": [
        "df[df['3P'] == df['3P'].max()]"
      ],
      "execution_count": null,
      "outputs": []
    },
    {
      "cell_type": "markdown",
      "metadata": {
        "id": "Vqca8kngwzfP"
      },
      "source": [
        "### **GroupBy() function**"
      ]
    },
    {
      "cell_type": "markdown",
      "metadata": {
        "id": "gCKH-MJCvRBN"
      },
      "source": [
        "**Which player scored the highest (PTS) in the Los Angeles Lakers?**"
      ]
    },
    {
      "cell_type": "code",
      "metadata": {
        "id": "u9zqyjq6uIM3"
      },
      "source": [
        "LAL = df.groupby('Tm').get_group('LAL')"
      ],
      "execution_count": null,
      "outputs": []
    },
    {
      "cell_type": "code",
      "metadata": {
        "id": "eC6KSuS2yhdh"
      },
      "source": [
        "LAL[LAL.PTS == LAL.PTS.max()]"
      ],
      "execution_count": null,
      "outputs": []
    },
    {
      "cell_type": "markdown",
      "metadata": {
        "id": "6tTfbd5cTRY9"
      },
      "source": [
        "**Of the 5 positions, which position scores the most points?**\n",
        "\n",
        "We first group players by their positions."
      ]
    },
    {
      "cell_type": "code",
      "metadata": {
        "id": "5p2eqd0LpsRu"
      },
      "source": [
        "df.groupby('Pos').PTS.describe()"
      ],
      "execution_count": null,
      "outputs": []
    },
    {
      "cell_type": "markdown",
      "metadata": {
        "id": "Y2F8PR2kvmkO"
      },
      "source": [
        "We will now show only the 5 traditional positions (those having combo positions will be removed from the analysis)."
      ]
    },
    {
      "cell_type": "code",
      "metadata": {
        "id": "aZYLHZPhsB-e"
      },
      "source": [
        "positions = ['C','PF','SF','PG','SG']\n",
        "POS = df[ df['Pos'].isin(positions)  ]\n",
        "POS"
      ],
      "execution_count": null,
      "outputs": []
    },
    {
      "cell_type": "markdown",
      "metadata": {
        "id": "2mv2BgvLxidZ"
      },
      "source": [
        "Now, let's take a look at the descriptive statistics."
      ]
    },
    {
      "cell_type": "code",
      "metadata": {
        "id": "jjsf2_AVpL_x"
      },
      "source": [
        "POS.groupby('Pos').PTS.describe()"
      ],
      "execution_count": null,
      "outputs": []
    },
    {
      "cell_type": "markdown",
      "metadata": {
        "id": "c-jQ8kDN0Z0A"
      },
      "source": [
        "### **Histograms**"
      ]
    },
    {
      "cell_type": "markdown",
      "metadata": {
        "id": "VzS11hEbwXlR"
      },
      "source": [
        "We'll also try to answer this question by showing some histogram plots. So, to make it a bit easier, let's create a subset dataframe."
      ]
    },
    {
      "cell_type": "code",
      "metadata": {
        "id": "NLpbRJzDgHxK"
      },
      "source": [
        "PTS = df[['Pos','PTS']]\n",
        "\n",
        "positions = ['C','PF','SF','PG','SG']\n",
        "PTS = PTS[ PTS['Pos'].isin(positions)  ]\n",
        "\n",
        "PTS"
      ],
      "execution_count": null,
      "outputs": []
    },
    {
      "cell_type": "markdown",
      "metadata": {
        "id": "PO7UfNVVB6uc"
      },
      "source": [
        "#### **pandas built-in visualization**"
      ]
    },
    {
      "cell_type": "code",
      "metadata": {
        "id": "1piOTFFthjiW"
      },
      "source": [
        "PTS['PTS'].hist(by=PTS['Pos'])"
      ],
      "execution_count": null,
      "outputs": []
    },
    {
      "cell_type": "code",
      "metadata": {
        "id": "vPZQAHNLhp8G"
      },
      "source": [
        "PTS['PTS'].hist(by=PTS['Pos'], layout=(1,5))"
      ],
      "execution_count": null,
      "outputs": []
    },
    {
      "cell_type": "code",
      "metadata": {
        "id": "a4ZjJUumzhiw"
      },
      "source": [
        "PTS['PTS'].hist(by=PTS['Pos'], layout=(1,5), figsize=(16,2))\n"
      ],
      "execution_count": null,
      "outputs": []
    },
    {
      "cell_type": "markdown",
      "metadata": {
        "id": "U_hocRX9CAX2"
      },
      "source": [
        "#### **Seaborn data visualization**"
      ]
    },
    {
      "cell_type": "code",
      "metadata": {
        "id": "b8zmHKg1KRp8"
      },
      "source": [
        "import seaborn as sns\n",
        "import matplotlib.pyplot as plt\n",
        "\n",
        "g = sns.FacetGrid(PTS, col=\"Pos\")\n",
        "g.map(plt.hist, \"PTS\");"
      ],
      "execution_count": null,
      "outputs": []
    },
    {
      "cell_type": "markdown",
      "metadata": {
        "id": "JaK1fhKg03Ob"
      },
      "source": [
        "### **Box plots**"
      ]
    },
    {
      "cell_type": "markdown",
      "metadata": {
        "id": "scWFuA5E4dOm"
      },
      "source": [
        "#### **Box plot of points scored (PTS) grouped by Position**"
      ]
    },
    {
      "cell_type": "markdown",
      "metadata": {
        "id": "RNnP6Bf3BuTP"
      },
      "source": [
        "##### **pandas built-in visualization**"
      ]
    },
    {
      "cell_type": "code",
      "metadata": {
        "id": "QBoCmfHaylPA"
      },
      "source": [
        "PTS.boxplot(column='PTS', by='Pos')"
      ],
      "execution_count": null,
      "outputs": []
    },
    {
      "cell_type": "markdown",
      "metadata": {
        "id": "w8DxVve0B0Kd"
      },
      "source": [
        "##### **Seaborn data visualization**"
      ]
    },
    {
      "cell_type": "code",
      "metadata": {
        "id": "S7iNqru01ehH"
      },
      "source": [
        "import seaborn as sns\n",
        "\n",
        "sns.boxplot(x = 'Pos', y = 'PTS', data = PTS) "
      ],
      "execution_count": null,
      "outputs": []
    },
    {
      "cell_type": "code",
      "metadata": {
        "id": "aeF0zocV8HOi"
      },
      "source": [
        "sns.boxplot(x = 'Pos', y = 'PTS', data = PTS) \n",
        "sns.stripplot(x = 'Pos', y = 'PTS', data = PTS,\n",
        "              jitter=True, \n",
        "              marker='o',\n",
        "              alpha=0.8, \n",
        "              color=\"black\")"
      ],
      "execution_count": null,
      "outputs": []
    },
    {
      "cell_type": "markdown",
      "metadata": {
        "id": "WJaX_LkAZGyt"
      },
      "source": [
        "### **Heat map**"
      ]
    },
    {
      "cell_type": "markdown",
      "metadata": {
        "id": "SjKgdqh4cVi0"
      },
      "source": [
        "#### Compute the correlation matrix"
      ]
    },
    {
      "cell_type": "code",
      "metadata": {
        "id": "cx5wLvHHZQAb"
      },
      "source": [
        "corr = df.corr()\n",
        "corr"
      ],
      "execution_count": null,
      "outputs": []
    },
    {
      "cell_type": "markdown",
      "metadata": {
        "id": "ZSjodkgJcYGJ"
      },
      "source": [
        "#### Make the heat map"
      ]
    },
    {
      "cell_type": "code",
      "metadata": {
        "id": "1hyNQDSUZR7K"
      },
      "source": [
        "sns.heatmap(corr)"
      ],
      "execution_count": null,
      "outputs": []
    },
    {
      "cell_type": "markdown",
      "metadata": {
        "id": "95ovHWzzcaNg"
      },
      "source": [
        "#### Adjust figure size of heat map"
      ]
    },
    {
      "cell_type": "code",
      "metadata": {
        "id": "HUzMq_HTcBO3"
      },
      "source": [
        "import seaborn as sns\n",
        "import matplotlib.pyplot as plt\n",
        "\n",
        "fig, ax = plt.subplots(figsize=(7,5))\n",
        "sns.heatmap(corr, square=True)"
      ],
      "execution_count": null,
      "outputs": []
    },
    {
      "cell_type": "markdown",
      "metadata": {
        "id": "usGhMrEmce19"
      },
      "source": [
        "#### Mask diagonal half of heat map (Diagonal correlation matrix)"
      ]
    },
    {
      "cell_type": "code",
      "metadata": {
        "id": "GqzohV6ybWSH"
      },
      "source": [
        "# https://seaborn.pydata.org/generated/seaborn.heatmap.html\n",
        "\n",
        "import numpy as np\n",
        "import seaborn as sns\n",
        "\n",
        "mask = np.zeros_like(corr)\n",
        "mask[np.triu_indices_from(mask)] = True\n",
        "with sns.axes_style(\"white\"):\n",
        "    f, ax = plt.subplots(figsize=(7, 5))\n",
        "    ax = sns.heatmap(corr, mask=mask, vmax=1, square=True)"
      ],
      "execution_count": null,
      "outputs": []
    },
    {
      "cell_type": "markdown",
      "metadata": {
        "id": "e7NK5ogEL3Pb"
      },
      "source": [
        "### **Scatter Plot**"
      ]
    },
    {
      "cell_type": "code",
      "metadata": {
        "id": "fsWIQcBcOoM2"
      },
      "source": [
        "df"
      ],
      "execution_count": null,
      "outputs": []
    },
    {
      "cell_type": "markdown",
      "metadata": {
        "id": "zYihuJ1ITpPA"
      },
      "source": [
        "#### Select columns if they have numerical data types"
      ]
    },
    {
      "cell_type": "code",
      "metadata": {
        "id": "ZIQ5nz2ZR5YZ"
      },
      "source": [
        "df.select_dtypes(include=['number'])"
      ],
      "execution_count": null,
      "outputs": []
    },
    {
      "cell_type": "markdown",
      "metadata": {
        "id": "BdgDVlAPTk4f"
      },
      "source": [
        "#### Select the first 5 columns (by index number)"
      ]
    },
    {
      "cell_type": "code",
      "metadata": {
        "id": "cdAwDzKiSyV4"
      },
      "source": [
        "number = df.select_dtypes(include=['number'])"
      ],
      "execution_count": null,
      "outputs": []
    },
    {
      "cell_type": "code",
      "metadata": {
        "id": "oHD3J9-8VMQX"
      },
      "source": [
        "number.iloc[:,:5]"
      ],
      "execution_count": null,
      "outputs": []
    },
    {
      "cell_type": "markdown",
      "metadata": {
        "id": "Pda7MJ2oUn-I"
      },
      "source": [
        "#### Select 5 specific columns (by column names)"
      ]
    },
    {
      "cell_type": "code",
      "metadata": {
        "id": "g3dawTyNUqgP"
      },
      "source": [
        "selections = ['Age', 'G', 'STL', 'BLK', 'AST', 'PTS']\n",
        "df5 = df[selections]\n",
        "df5"
      ],
      "execution_count": null,
      "outputs": []
    },
    {
      "cell_type": "markdown",
      "metadata": {
        "id": "ppSU4uyVXnMA"
      },
      "source": [
        "#### Make scatter plot grid"
      ]
    },
    {
      "cell_type": "markdown",
      "metadata": {
        "id": "KrcVJrAQX8xf"
      },
      "source": [
        "##### 5 columns"
      ]
    },
    {
      "cell_type": "code",
      "metadata": {
        "id": "jlAy46FvOqRO"
      },
      "source": [
        "import seaborn as sns\n",
        "\n",
        "g = sns.PairGrid(df5)\n",
        "g.map(plt.scatter);"
      ],
      "execution_count": null,
      "outputs": []
    },
    {
      "cell_type": "markdown",
      "metadata": {
        "id": "6u3-OUokX3Sn"
      },
      "source": [
        "##### All columns"
      ]
    },
    {
      "cell_type": "code",
      "metadata": {
        "id": "hNcbUT1ABhvy"
      },
      "source": [
        "import seaborn as sns\n",
        "\n",
        "g = sns.PairGrid(number)\n",
        "g.map(plt.scatter);"
      ],
      "execution_count": null,
      "outputs": []
    },
    {
      "cell_type": "code",
      "metadata": {
        "id": "TDWYQUGUYAoz"
      },
      "source": [
        ""
      ],
      "execution_count": null,
      "outputs": []
    }
  ]
}